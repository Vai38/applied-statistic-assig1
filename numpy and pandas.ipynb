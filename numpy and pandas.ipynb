{
 "cells": [
  {
   "cell_type": "code",
   "execution_count": 1,
   "id": "f86ec10a",
   "metadata": {},
   "outputs": [
    {
     "name": "stdout",
     "output_type": "stream",
     "text": [
      "<class 'numpy.ndarray'>\n",
      "(3,)\n",
      "<class 'numpy.ndarray'>\n",
      "[3 4 5]\n"
     ]
    }
   ],
   "source": [
    "# advance numpy\n",
    "import numpy as np\n",
    "a= np.array([1,2,3])\n",
    "b=np.array([3,4,5])\n",
    "print(type(a))\n",
    "print(a.shape)\n",
    "print(type(b))\n",
    "print(b)\n",
    "\n"
   ]
  },
  {
   "cell_type": "code",
   "execution_count": 3,
   "id": "4e1af611",
   "metadata": {},
   "outputs": [
    {
     "name": "stdout",
     "output_type": "stream",
     "text": [
      "[5 2 3]\n",
      "(2, 3)\n",
      "1 2 4\n"
     ]
    }
   ],
   "source": [
    "a[0]=5\n",
    "print(a)\n",
    "b= np.array([[1,2,3],[4,5,6]])\n",
    "print(b.shape)\n",
    "print(b[0,0],b[0,1],b[1,0])"
   ]
  },
  {
   "cell_type": "code",
   "execution_count": 8,
   "id": "d7bee74c",
   "metadata": {},
   "outputs": [
    {
     "name": "stdout",
     "output_type": "stream",
     "text": [
      "[[0. 0.]\n",
      " [0. 0.]]\n",
      "[[1. 1.]]\n",
      "[[7 7]\n",
      " [7 7]]\n",
      "[[1. 0.]\n",
      " [0. 1.]]\n",
      "[[0.02969626 0.01827067]\n",
      " [0.32098671 0.4848108 ]]\n"
     ]
    }
   ],
   "source": [
    "#create an array of all zeros and array of all ones\n",
    "import numpy as np\n",
    "a=np.zeros([2,2])\n",
    "print(a)\n",
    "\n",
    "b=np.ones((1,2))\n",
    "print(b)\n",
    "#ceate an array with constants first rows sec columb and 3rd value\n",
    "c=np.full((2,2),7)\n",
    "print(c)\n",
    "\n",
    "d=np.eye(2)\n",
    "print(d)\n",
    "\n",
    "e=np.random.random((2,2))\n",
    "print(e)\n",
    "\n",
    "#"
   ]
  },
  {
   "cell_type": "code",
   "execution_count": 9,
   "id": "b246afbc",
   "metadata": {},
   "outputs": [
    {
     "ename": "NameError",
     "evalue": "name 'array' is not defined",
     "output_type": "error",
     "traceback": [
      "\u001b[1;31m---------------------------------------------------------------------------\u001b[0m",
      "\u001b[1;31mNameError\u001b[0m                                 Traceback (most recent call last)",
      "Cell \u001b[1;32mIn[9], line 4\u001b[0m\n\u001b[0;32m      2\u001b[0m \u001b[38;5;28;01mimport\u001b[39;00m \u001b[38;5;21;01mnumpy\u001b[39;00m \u001b[38;5;28;01mas\u001b[39;00m \u001b[38;5;21;01mnp\u001b[39;00m\n\u001b[0;32m      3\u001b[0m np\u001b[38;5;241m.\u001b[39mlinspace(\u001b[38;5;241m2.0\u001b[39m,\u001b[38;5;241m3.0\u001b[39m,num\u001b[38;5;241m=\u001b[39m\u001b[38;5;241m5\u001b[39m)\n\u001b[1;32m----> 4\u001b[0m array([\u001b[38;5;241m2.\u001b[39m , \u001b[38;5;241m2.25\u001b[39m, \u001b[38;5;241m2.75\u001b[39m, \u001b[38;5;241m3.\u001b[39m])\n\u001b[0;32m      5\u001b[0m np\u001b[38;5;241m.\u001b[39mlinspace(\u001b[38;5;241m2.0\u001b[39m,\u001b[38;5;241m3.0\u001b[39m,num\u001b[38;5;241m=\u001b[39m\u001b[38;5;241m5\u001b[39m,endpoint\u001b[38;5;241m=\u001b[39mfalse)\n\u001b[0;32m      6\u001b[0m array([\u001b[38;5;241m2.\u001b[39m,\u001b[38;5;241m2.2\u001b[39m,\u001b[38;5;241m2.4\u001b[39m,\u001b[38;5;241m2.6\u001b[39m,\u001b[38;5;241m2.8\u001b[39m])\n",
      "\u001b[1;31mNameError\u001b[0m: name 'array' is not defined"
     ]
    }
   ],
   "source": [
    "#numpy linspace\n",
    "import numpy as np\n",
    "np.linspace(2.0,3.0,num=5)\n",
    "array([2. , 2.25, 2.75, 3.])\n",
    "np.linspace(2.0,3.0,num=5,endpoint=false)\n",
    "array([2.,2.2,2.4,2.6,2.8])"
   ]
  },
  {
   "cell_type": "code",
   "execution_count": 12,
   "id": "4b4c5f79",
   "metadata": {},
   "outputs": [
    {
     "name": "stdout",
     "output_type": "stream",
     "text": [
      "[[1 2 3]\n",
      " [4 5 6]\n",
      " [7 8 9]]\n",
      "2\n",
      "[[1 2 3]\n",
      " [4 5 6]\n",
      " [7 8 9]]\n",
      "[[2 3]\n",
      " [5 6]]\n",
      "[[2]\n",
      " [5]]\n",
      "[[7 8]]\n",
      "[[2 3]\n",
      " [5 6]]\n",
      "[]\n"
     ]
    }
   ],
   "source": [
    "#slicing \n",
    "import numpy as np\n",
    "a=np.array([[1,2,3],[4,5,6],[7,8,9]])\n",
    "print(a)\n",
    "\n",
    "b=a[:2,1:3]\n",
    "print(a[0,1])\n",
    "print(a[:,:])\n",
    "print(a[:2,1:3])\n",
    "print(a[0:2,1:2])\n",
    "print(a[2:3,0:2])\n",
    "print(a[:2,1:])\n",
    "print(a[-2:-1,-2:1])\n"
   ]
  },
  {
   "cell_type": "code",
   "execution_count": 13,
   "id": "81d3abf2",
   "metadata": {},
   "outputs": [
    {
     "name": "stdout",
     "output_type": "stream",
     "text": [
      "[1 4 5]\n",
      "[1 4 6]\n"
     ]
    }
   ],
   "source": [
    "import numpy as np\n",
    "a=np.array([[1,2],[3,4],[5,6]])\n",
    "print(a[[0,1,2],[0,1,0]])\n",
    "print(np.array([a[0,0],a[1,1],a[2,1]]))\n",
    "print"
   ]
  },
  {
   "cell_type": "code",
   "execution_count": 14,
   "id": "e91c88ae",
   "metadata": {},
   "outputs": [
    {
     "name": "stdout",
     "output_type": "stream",
     "text": [
      "[[ 1  2  3]\n",
      " [ 4  5  6]\n",
      " [ 7  8  9]\n",
      " [10 11 12]]\n"
     ]
    }
   ],
   "source": [
    "import numpy as np\n",
    "a=np.array([[1,2,3],[4,5,6],[7,8,9],[10,11,12]])\n",
    "print(a)\n",
    "b=np.array([0,2,0,1])\n"
   ]
  },
  {
   "cell_type": "code",
   "execution_count": 15,
   "id": "9ef6398f",
   "metadata": {},
   "outputs": [
    {
     "name": "stdout",
     "output_type": "stream",
     "text": [
      "[[False False]\n",
      " [ True  True]\n",
      " [ True  True]]\n"
     ]
    }
   ],
   "source": [
    "#bool\n",
    "import numpy as np\n",
    "a=np.array([[1,2],[3,4],[5,6]])\n",
    "bool_idx = (a>2)\n",
    "print(bool_idx)"
   ]
  },
  {
   "cell_type": "code",
   "execution_count": 16,
   "id": "a3713670",
   "metadata": {},
   "outputs": [
    {
     "name": "stdout",
     "output_type": "stream",
     "text": [
      "int32\n",
      "int64\n"
     ]
    }
   ],
   "source": [
    "import numpy as np\n",
    "x=np.array([1,2])\n",
    "print(x.dtype)\n",
    "y=np.array([1,2],dtype=np.int64)\n",
    "print(y.dtype)\n"
   ]
  },
  {
   "cell_type": "code",
   "execution_count": 20,
   "id": "3e7c3171",
   "metadata": {},
   "outputs": [
    {
     "name": "stdout",
     "output_type": "stream",
     "text": [
      "[[ 6  8]\n",
      " [10 12]]\n",
      "[[ 6  8]\n",
      " [10 12]]\n",
      "[[-4 -4]\n",
      " [-4 -4]]\n",
      "[[-4 -4]\n",
      " [-4 -4]]\n",
      "[[0.2        0.33333333]\n",
      " [0.42857143 0.5       ]]\n",
      "[[1.         1.41421356]\n",
      " [1.73205081 2.        ]]\n",
      "[[1 3]\n",
      " [2 4]]\n",
      "[1 2 3]\n",
      "[1 2 3]\n"
     ]
    }
   ],
   "source": [
    "import numpy as np\n",
    "x=np.array([[1,2],[3,4]])\n",
    "y=np.array([[5,6],[7,8]])\n",
    "print(x+y)\n",
    "print(np.add(x,y))\n",
    "print(x-y)\n",
    "print(np.subtract(x,y))\n",
    "print(np.divide(x,y))\n",
    "print(np.sqrt(x))\n",
    "print(x.T)\n",
    "v=np.array([1,2,3])\n",
    "print(v)\n",
    "print(v.T)"
   ]
  },
  {
   "cell_type": "code",
   "execution_count": 21,
   "id": "8cfb3c5b",
   "metadata": {},
   "outputs": [
    {
     "name": "stdout",
     "output_type": "stream",
     "text": [
      "The Original Array is:\n",
      " [ 0  1  2  3  4  5  6  7  8  9 10 11 12 13 14 15]\n",
      "The Reshaped array is:\n",
      " [[ 0  1  2  3  4  5  6  7]\n",
      " [ 8  9 10 11 12 13 14 15]]\n"
     ]
    }
   ],
   "source": [
    "import numpy as np\n",
    "arr = np.arange(16)\n",
    "print(\"The Original Array is:\\n\",arr)\n",
    "arr1 = np.arange(16).reshape(2,8)\n",
    "print(\"The Reshaped array is:\\n\",arr1)"
   ]
  },
  {
   "cell_type": "code",
   "execution_count": 22,
   "id": "ec641be1",
   "metadata": {},
   "outputs": [
    {
     "name": "stdout",
     "output_type": "stream",
     "text": [
      "Eigenvalues: [2.61803399 0.38196601]\n",
      "Eigenvectors: [[ 0.85065081 -0.52573111]\n",
      " [ 0.52573111  0.85065081]]\n"
     ]
    }
   ],
   "source": [
    "import numpy as np\n",
    "\n",
    "# Define a square matrix (2x2 in this case)\n",
    "A = np.array([[2, 1], [1, 1]])\n",
    "\n",
    "# Compute eigenvalues and eigenvectors using np.linalg.eig\n",
    "eigenvalues, eigenvectors = np.linalg.eig(A)\n",
    "\n",
    "print(\"Eigenvalues:\", eigenvalues)\n",
    "print(\"Eigenvectors:\", eigenvectors)"
   ]
  },
  {
   "cell_type": "code",
   "execution_count": null,
   "id": "98a0b7dd",
   "metadata": {},
   "outputs": [],
   "source": []
  }
 ],
 "metadata": {
  "kernelspec": {
   "display_name": "Python 3 (ipykernel)",
   "language": "python",
   "name": "python3"
  },
  "language_info": {
   "codemirror_mode": {
    "name": "ipython",
    "version": 3
   },
   "file_extension": ".py",
   "mimetype": "text/x-python",
   "name": "python",
   "nbconvert_exporter": "python",
   "pygments_lexer": "ipython3",
   "version": "3.11.5"
  }
 },
 "nbformat": 4,
 "nbformat_minor": 5
}
